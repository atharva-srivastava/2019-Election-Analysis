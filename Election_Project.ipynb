{
  "nbformat": 4,
  "nbformat_minor": 0,
  "metadata": {
    "colab": {
      "name": "Election Project",
      "provenance": [],
      "include_colab_link": true
    },
    "kernelspec": {
      "name": "python3",
      "display_name": "Python 3"
    }
  },
  "cells": [
    {
      "cell_type": "markdown",
      "metadata": {
        "id": "view-in-github",
        "colab_type": "text"
      },
      "source": [
        "<a href=\"https://colab.research.google.com/github/kaalachor/Elections-in-India/blob/master/Election_Project.ipynb\" target=\"_parent\"><img src=\"https://colab.research.google.com/assets/colab-badge.svg\" alt=\"Open In Colab\"/></a>"
      ]
    },
    {
      "cell_type": "markdown",
      "metadata": {
        "id": "bDNg1Zs-Azty",
        "colab_type": "text"
      },
      "source": [
        "## Importing Dataset and Modules"
      ]
    },
    {
      "cell_type": "code",
      "metadata": {
        "id": "dE2N6MaM7N4V",
        "colab_type": "code",
        "colab": {}
      },
      "source": [
        "import numpy as np\n",
        "import pandas as pd\n",
        "import matplotlib.pyplot as plt"
      ],
      "execution_count": null,
      "outputs": []
    },
    {
      "cell_type": "markdown",
      "metadata": {
        "id": "I6hjseqESXuK",
        "colab_type": "text"
      },
      "source": [
        "### Previewing the dataset in a pandas dataframe.\n"
      ]
    },
    {
      "cell_type": "code",
      "metadata": {
        "id": "YXAcRIjb7cNG",
        "colab_type": "code",
        "colab": {
          "base_uri": "https://localhost:8080/",
          "height": 670
        },
        "outputId": "13e464a1-f69f-4424-ff8e-96d347e84714"
      },
      "source": [
        "dataset = pd.read_csv('LS_2.0.csv')\n",
        "dataset"
      ],
      "execution_count": null,
      "outputs": [
        {
          "output_type": "execute_result",
          "data": {
            "text/html": [
              "<div>\n",
              "<style scoped>\n",
              "    .dataframe tbody tr th:only-of-type {\n",
              "        vertical-align: middle;\n",
              "    }\n",
              "\n",
              "    .dataframe tbody tr th {\n",
              "        vertical-align: top;\n",
              "    }\n",
              "\n",
              "    .dataframe thead th {\n",
              "        text-align: right;\n",
              "    }\n",
              "</style>\n",
              "<table border=\"1\" class=\"dataframe\">\n",
              "  <thead>\n",
              "    <tr style=\"text-align: right;\">\n",
              "      <th></th>\n",
              "      <th>STATE</th>\n",
              "      <th>CONSTITUENCY</th>\n",
              "      <th>NAME</th>\n",
              "      <th>WINNER</th>\n",
              "      <th>PARTY</th>\n",
              "      <th>GENDER</th>\n",
              "      <th>CRIMINAL\\nCASES</th>\n",
              "      <th>AGE</th>\n",
              "      <th>CATEGORY</th>\n",
              "      <th>EDUCATION</th>\n",
              "      <th>ASSETS</th>\n",
              "      <th>LIABILITIES</th>\n",
              "      <th>TOTAL\\nVOTES</th>\n",
              "      <th>TOTAL ELECTORS</th>\n",
              "    </tr>\n",
              "  </thead>\n",
              "  <tbody>\n",
              "    <tr>\n",
              "      <th>0</th>\n",
              "      <td>Telangana</td>\n",
              "      <td>ADILABAD</td>\n",
              "      <td>NOTA</td>\n",
              "      <td>0</td>\n",
              "      <td>NOTA</td>\n",
              "      <td>NaN</td>\n",
              "      <td>NaN</td>\n",
              "      <td>NaN</td>\n",
              "      <td>NaN</td>\n",
              "      <td>NaN</td>\n",
              "      <td>NaN</td>\n",
              "      <td>NaN</td>\n",
              "      <td>13036</td>\n",
              "      <td>1489790</td>\n",
              "    </tr>\n",
              "    <tr>\n",
              "      <th>1</th>\n",
              "      <td>Telangana</td>\n",
              "      <td>ADILABAD</td>\n",
              "      <td>RATHOD RAMESH</td>\n",
              "      <td>0</td>\n",
              "      <td>INC</td>\n",
              "      <td>MALE</td>\n",
              "      <td>3</td>\n",
              "      <td>52.0</td>\n",
              "      <td>ST</td>\n",
              "      <td>12th Pass</td>\n",
              "      <td>3.649100e+07</td>\n",
              "      <td>15300000.0</td>\n",
              "      <td>314238</td>\n",
              "      <td>1489790</td>\n",
              "    </tr>\n",
              "    <tr>\n",
              "      <th>2</th>\n",
              "      <td>Telangana</td>\n",
              "      <td>ADILABAD</td>\n",
              "      <td>Godam Nagesh</td>\n",
              "      <td>0</td>\n",
              "      <td>TRS</td>\n",
              "      <td>MALE</td>\n",
              "      <td>0</td>\n",
              "      <td>54.0</td>\n",
              "      <td>ST</td>\n",
              "      <td>Post Graduate</td>\n",
              "      <td>1.847789e+07</td>\n",
              "      <td>847000.0</td>\n",
              "      <td>318814</td>\n",
              "      <td>1489790</td>\n",
              "    </tr>\n",
              "    <tr>\n",
              "      <th>3</th>\n",
              "      <td>Telangana</td>\n",
              "      <td>ADILABAD</td>\n",
              "      <td>SOYAM BAPU RAO</td>\n",
              "      <td>1</td>\n",
              "      <td>BJP</td>\n",
              "      <td>MALE</td>\n",
              "      <td>52</td>\n",
              "      <td>52.0</td>\n",
              "      <td>ST</td>\n",
              "      <td>12th Pass</td>\n",
              "      <td>3.099414e+06</td>\n",
              "      <td>231450.0</td>\n",
              "      <td>377374</td>\n",
              "      <td>1489790</td>\n",
              "    </tr>\n",
              "    <tr>\n",
              "      <th>4</th>\n",
              "      <td>Uttar Pradesh</td>\n",
              "      <td>AGRA</td>\n",
              "      <td>Manoj Kumar Soni</td>\n",
              "      <td>0</td>\n",
              "      <td>BSP</td>\n",
              "      <td>MALE</td>\n",
              "      <td>0</td>\n",
              "      <td>47.0</td>\n",
              "      <td>SC</td>\n",
              "      <td>Post Graduate</td>\n",
              "      <td>1.337844e+08</td>\n",
              "      <td>22251891.0</td>\n",
              "      <td>435329</td>\n",
              "      <td>1937690</td>\n",
              "    </tr>\n",
              "    <tr>\n",
              "      <th>...</th>\n",
              "      <td>...</td>\n",
              "      <td>...</td>\n",
              "      <td>...</td>\n",
              "      <td>...</td>\n",
              "      <td>...</td>\n",
              "      <td>...</td>\n",
              "      <td>...</td>\n",
              "      <td>...</td>\n",
              "      <td>...</td>\n",
              "      <td>...</td>\n",
              "      <td>...</td>\n",
              "      <td>...</td>\n",
              "      <td>...</td>\n",
              "      <td>...</td>\n",
              "    </tr>\n",
              "    <tr>\n",
              "      <th>2258</th>\n",
              "      <td>Maharashtra</td>\n",
              "      <td>YAVATMAL-WASHIM</td>\n",
              "      <td>Vaishali Sudhakar Yede</td>\n",
              "      <td>0</td>\n",
              "      <td>PHJSP</td>\n",
              "      <td>FEMALE</td>\n",
              "      <td>0</td>\n",
              "      <td>28.0</td>\n",
              "      <td>GENERAL</td>\n",
              "      <td>10th Pass</td>\n",
              "      <td>1.168500e+06</td>\n",
              "      <td>9000.0</td>\n",
              "      <td>20620</td>\n",
              "      <td>1916185</td>\n",
              "    </tr>\n",
              "    <tr>\n",
              "      <th>2259</th>\n",
              "      <td>Telangana</td>\n",
              "      <td>ZAHIRABAD</td>\n",
              "      <td>B.B.PATIL</td>\n",
              "      <td>1</td>\n",
              "      <td>TRS</td>\n",
              "      <td>MALE</td>\n",
              "      <td>18</td>\n",
              "      <td>63.0</td>\n",
              "      <td>GENERAL</td>\n",
              "      <td>Graduate</td>\n",
              "      <td>1.287852e+09</td>\n",
              "      <td>11535000.0</td>\n",
              "      <td>434244</td>\n",
              "      <td>1498666</td>\n",
              "    </tr>\n",
              "    <tr>\n",
              "      <th>2260</th>\n",
              "      <td>Telangana</td>\n",
              "      <td>ZAHIRABAD</td>\n",
              "      <td>MADAN MOHAN RAO</td>\n",
              "      <td>0</td>\n",
              "      <td>INC</td>\n",
              "      <td>MALE</td>\n",
              "      <td>0</td>\n",
              "      <td>49.0</td>\n",
              "      <td>GENERAL</td>\n",
              "      <td>Post Graduate</td>\n",
              "      <td>9.036630e+08</td>\n",
              "      <td>0.0</td>\n",
              "      <td>428015</td>\n",
              "      <td>1498666</td>\n",
              "    </tr>\n",
              "    <tr>\n",
              "      <th>2261</th>\n",
              "      <td>Telangana</td>\n",
              "      <td>ZAHIRABAD</td>\n",
              "      <td>BANALA LAXMA REDDY</td>\n",
              "      <td>0</td>\n",
              "      <td>BJP</td>\n",
              "      <td>MALE</td>\n",
              "      <td>3</td>\n",
              "      <td>47.0</td>\n",
              "      <td>GENERAL</td>\n",
              "      <td>12th Pass</td>\n",
              "      <td>5.857733e+07</td>\n",
              "      <td>5250000.0</td>\n",
              "      <td>138947</td>\n",
              "      <td>1498666</td>\n",
              "    </tr>\n",
              "    <tr>\n",
              "      <th>2262</th>\n",
              "      <td>Telangana</td>\n",
              "      <td>ZAHIRABAD</td>\n",
              "      <td>NOTA</td>\n",
              "      <td>0</td>\n",
              "      <td>NOTA</td>\n",
              "      <td>NaN</td>\n",
              "      <td>NaN</td>\n",
              "      <td>NaN</td>\n",
              "      <td>NaN</td>\n",
              "      <td>NaN</td>\n",
              "      <td>NaN</td>\n",
              "      <td>NaN</td>\n",
              "      <td>11140</td>\n",
              "      <td>1498666</td>\n",
              "    </tr>\n",
              "  </tbody>\n",
              "</table>\n",
              "<p>2263 rows × 14 columns</p>\n",
              "</div>"
            ],
            "text/plain": [
              "              STATE     CONSTITUENCY  ... TOTAL\\nVOTES  TOTAL ELECTORS\n",
              "0         Telangana         ADILABAD  ...        13036         1489790\n",
              "1         Telangana         ADILABAD  ...       314238         1489790\n",
              "2         Telangana         ADILABAD  ...       318814         1489790\n",
              "3         Telangana         ADILABAD  ...       377374         1489790\n",
              "4     Uttar Pradesh             AGRA  ...       435329         1937690\n",
              "...             ...              ...  ...          ...             ...\n",
              "2258    Maharashtra  YAVATMAL-WASHIM  ...        20620         1916185\n",
              "2259      Telangana        ZAHIRABAD  ...       434244         1498666\n",
              "2260      Telangana        ZAHIRABAD  ...       428015         1498666\n",
              "2261      Telangana        ZAHIRABAD  ...       138947         1498666\n",
              "2262      Telangana        ZAHIRABAD  ...        11140         1498666\n",
              "\n",
              "[2263 rows x 14 columns]"
            ]
          },
          "metadata": {
            "tags": []
          },
          "execution_count": 20
        }
      ]
    },
    {
      "cell_type": "code",
      "metadata": {
        "id": "9BiqoH9CBKFe",
        "colab_type": "code",
        "colab": {
          "base_uri": "https://localhost:8080/",
          "height": 35
        },
        "outputId": "7dfbc57b-bddd-4462-ce1a-5b54167c12b3"
      },
      "source": [
        "dataset.shape"
      ],
      "execution_count": null,
      "outputs": [
        {
          "output_type": "execute_result",
          "data": {
            "text/plain": [
              "(2263, 14)"
            ]
          },
          "metadata": {
            "tags": []
          },
          "execution_count": 21
        }
      ]
    },
    {
      "cell_type": "markdown",
      "metadata": {
        "id": "0TzAJdSGAyag",
        "colab_type": "text"
      },
      "source": [
        "Our dataset has 2264  rows and 14 columns"
      ]
    },
    {
      "cell_type": "markdown",
      "metadata": {
        "id": "2qKvrYykCV1j",
        "colab_type": "text"
      },
      "source": [
        "## Analysing the data"
      ]
    },
    {
      "cell_type": "markdown",
      "metadata": {
        "id": "miDpcZcdSg5H",
        "colab_type": "text"
      },
      "source": [
        "The dataset has the following columns."
      ]
    },
    {
      "cell_type": "code",
      "metadata": {
        "id": "tKTvfYyD7k7Y",
        "colab_type": "code",
        "colab": {
          "base_uri": "https://localhost:8080/",
          "height": 90
        },
        "outputId": "7aa7c971-6e4a-4747-ba00-86d2e4c6c4fa"
      },
      "source": [
        "dataset.columns"
      ],
      "execution_count": null,
      "outputs": [
        {
          "output_type": "execute_result",
          "data": {
            "text/plain": [
              "Index(['STATE', 'CONSTITUENCY', 'NAME', 'WINNER', 'PARTY', 'GENDER',\n",
              "       'CRIMINAL\\nCASES', 'AGE', 'CATEGORY', 'EDUCATION', 'ASSETS',\n",
              "       'LIABILITIES', 'TOTAL\\nVOTES', 'TOTAL ELECTORS'],\n",
              "      dtype='object')"
            ]
          },
          "metadata": {
            "tags": []
          },
          "execution_count": 22
        }
      ]
    },
    {
      "cell_type": "markdown",
      "metadata": {
        "id": "rZueXA-dCQLl",
        "colab_type": "text"
      },
      "source": [
        "The null values depict the missing values in case of NOTA candidates."
      ]
    },
    {
      "cell_type": "code",
      "metadata": {
        "id": "PtKrN8ZPBnG8",
        "colab_type": "code",
        "colab": {
          "base_uri": "https://localhost:8080/",
          "height": 293
        },
        "outputId": "5736899e-2e36-4d53-a751-ee168eaf253b"
      },
      "source": [
        "dataset.isnull().sum(axis = 0)"
      ],
      "execution_count": null,
      "outputs": [
        {
          "output_type": "execute_result",
          "data": {
            "text/plain": [
              "STATE                0\n",
              "CONSTITUENCY         0\n",
              "NAME                 0\n",
              "WINNER               0\n",
              "PARTY                0\n",
              "GENDER             245\n",
              "CRIMINAL\\nCASES    245\n",
              "AGE                245\n",
              "CATEGORY           245\n",
              "EDUCATION          245\n",
              "ASSETS               0\n",
              "LIABILITIES          0\n",
              "TOTAL\\nVOTES         0\n",
              "TOTAL ELECTORS       0\n",
              "dtype: int64"
            ]
          },
          "metadata": {
            "tags": []
          },
          "execution_count": 34
        }
      ]
    },
    {
      "cell_type": "markdown",
      "metadata": {
        "id": "Q_a5xs6uG-Vf",
        "colab_type": "text"
      },
      "source": [
        "FIlling the unavailable values with 0 in Assets and Liabilities"
      ]
    },
    {
      "cell_type": "code",
      "metadata": {
        "id": "xcFG8TlU77Iv",
        "colab_type": "code",
        "colab": {
          "base_uri": "https://localhost:8080/",
          "height": 237
        },
        "outputId": "ce91925b-9813-4996-9565-aeb92717b3ac"
      },
      "source": [
        "dataset['ASSETS'] = dataset['ASSETS'].fillna(0)\n",
        "dataset['ASSETS']"
      ],
      "execution_count": null,
      "outputs": [
        {
          "output_type": "execute_result",
          "data": {
            "text/plain": [
              "0       0.000000e+00\n",
              "1       3.649100e+07\n",
              "2       1.847789e+07\n",
              "3       3.099414e+06\n",
              "4       1.337844e+08\n",
              "            ...     \n",
              "2258    1.168500e+06\n",
              "2259    1.287852e+09\n",
              "2260    9.036630e+08\n",
              "2261    5.857733e+07\n",
              "2262    0.000000e+00\n",
              "Name: ASSETS, Length: 2263, dtype: float64"
            ]
          },
          "metadata": {
            "tags": []
          },
          "execution_count": 27
        }
      ]
    },
    {
      "cell_type": "code",
      "metadata": {
        "id": "CtCZr6xhHnqF",
        "colab_type": "code",
        "colab": {
          "base_uri": "https://localhost:8080/",
          "height": 237
        },
        "outputId": "b11b9c62-16f1-4ae1-b32b-8e377a0b1603"
      },
      "source": [
        "dataset['LIABILITIES'] = dataset['LIABILITIES'].fillna(0)\n",
        "dataset['LIABILITIES']"
      ],
      "execution_count": null,
      "outputs": [
        {
          "output_type": "execute_result",
          "data": {
            "text/plain": [
              "0              0.0\n",
              "1       15300000.0\n",
              "2         847000.0\n",
              "3         231450.0\n",
              "4       22251891.0\n",
              "           ...    \n",
              "2258        9000.0\n",
              "2259    11535000.0\n",
              "2260           0.0\n",
              "2261     5250000.0\n",
              "2262           0.0\n",
              "Name: LIABILITIES, Length: 2263, dtype: float64"
            ]
          },
          "metadata": {
            "tags": []
          },
          "execution_count": 32
        }
      ]
    },
    {
      "cell_type": "markdown",
      "metadata": {
        "id": "5KS4TTd8HIdY",
        "colab_type": "text"
      },
      "source": [
        "Information about rows and columns"
      ]
    },
    {
      "cell_type": "code",
      "metadata": {
        "id": "TFSSbjI6V0rS",
        "colab_type": "code",
        "colab": {
          "base_uri": "https://localhost:8080/",
          "height": 439
        },
        "outputId": "852c7b50-1f57-4625-f96b-7fa9e7387f04"
      },
      "source": [
        "dataset.info()"
      ],
      "execution_count": null,
      "outputs": [
        {
          "output_type": "stream",
          "text": [
            "<class 'pandas.core.frame.DataFrame'>\n",
            "RangeIndex: 2263 entries, 0 to 2262\n",
            "Data columns (total 14 columns):\n",
            " #   Column          Non-Null Count  Dtype  \n",
            "---  ------          --------------  -----  \n",
            " 0   STATE           2263 non-null   object \n",
            " 1   CONSTITUENCY    2263 non-null   object \n",
            " 2   NAME            2263 non-null   object \n",
            " 3   WINNER          2263 non-null   int64  \n",
            " 4   PARTY           2263 non-null   object \n",
            " 5   GENDER          2018 non-null   object \n",
            " 6   CRIMINAL\n",
            "CASES  2018 non-null   object \n",
            " 7   AGE             2018 non-null   float64\n",
            " 8   CATEGORY        2018 non-null   object \n",
            " 9   EDUCATION       2018 non-null   object \n",
            " 10  ASSETS          2263 non-null   float64\n",
            " 11  LIABILITIES     1995 non-null   float64\n",
            " 12  TOTAL\n",
            "VOTES     2263 non-null   int64  \n",
            " 13  TOTAL ELECTORS  2263 non-null   int64  \n",
            "dtypes: float64(3), int64(3), object(8)\n",
            "memory usage: 247.6+ KB\n"
          ],
          "name": "stdout"
        }
      ]
    },
    {
      "cell_type": "markdown",
      "metadata": {
        "id": "gYnli1_mIGol",
        "colab_type": "text"
      },
      "source": [
        "## Data Insights"
      ]
    },
    {
      "cell_type": "markdown",
      "metadata": {
        "id": "SCD3H2rwHWb0",
        "colab_type": "text"
      },
      "source": [
        "Total Constituencies "
      ]
    },
    {
      "cell_type": "code",
      "metadata": {
        "id": "Cq8db425eYWd",
        "colab_type": "code",
        "colab": {
          "base_uri": "https://localhost:8080/",
          "height": 35
        },
        "outputId": "fa6fe451-3f28-4368-d12c-9bad4688f39e"
      },
      "source": [
        "list_of_constituencies = dataset['CONSTITUENCY'].unique()\n",
        "len(list_of_constituencies)"
      ],
      "execution_count": null,
      "outputs": [
        {
          "output_type": "execute_result",
          "data": {
            "text/plain": [
              "539"
            ]
          },
          "metadata": {
            "tags": []
          },
          "execution_count": 30
        }
      ]
    },
    {
      "cell_type": "markdown",
      "metadata": {
        "id": "tBNsFUsnILvc",
        "colab_type": "text"
      },
      "source": [
        "Constituencies per State"
      ]
    },
    {
      "cell_type": "code",
      "metadata": {
        "id": "Y7GxrcVzVqFk",
        "colab_type": "code",
        "colab": {
          "base_uri": "https://localhost:8080/",
          "height": 1000
        },
        "outputId": "099880a4-c176-46b0-df04-26975b689389"
      },
      "source": [
        "constituencies_per_state = dataset.groupby('STATE')['CONSTITUENCY'].nunique().reset_index().sort_values('CONSTITUENCY',ascending = False)\n",
        "constituencies_per_state"
      ],
      "execution_count": null,
      "outputs": [
        {
          "output_type": "execute_result",
          "data": {
            "text/html": [
              "<div>\n",
              "<style scoped>\n",
              "    .dataframe tbody tr th:only-of-type {\n",
              "        vertical-align: middle;\n",
              "    }\n",
              "\n",
              "    .dataframe tbody tr th {\n",
              "        vertical-align: top;\n",
              "    }\n",
              "\n",
              "    .dataframe thead th {\n",
              "        text-align: right;\n",
              "    }\n",
              "</style>\n",
              "<table border=\"1\" class=\"dataframe\">\n",
              "  <thead>\n",
              "    <tr style=\"text-align: right;\">\n",
              "      <th></th>\n",
              "      <th>STATE</th>\n",
              "      <th>CONSTITUENCY</th>\n",
              "    </tr>\n",
              "  </thead>\n",
              "  <tbody>\n",
              "    <tr>\n",
              "      <th>33</th>\n",
              "      <td>Uttar Pradesh</td>\n",
              "      <td>80</td>\n",
              "    </tr>\n",
              "    <tr>\n",
              "      <th>19</th>\n",
              "      <td>Maharashtra</td>\n",
              "      <td>48</td>\n",
              "    </tr>\n",
              "    <tr>\n",
              "      <th>35</th>\n",
              "      <td>West Bengal</td>\n",
              "      <td>42</td>\n",
              "    </tr>\n",
              "    <tr>\n",
              "      <th>4</th>\n",
              "      <td>Bihar</td>\n",
              "      <td>40</td>\n",
              "    </tr>\n",
              "    <tr>\n",
              "      <th>30</th>\n",
              "      <td>Tamil Nadu</td>\n",
              "      <td>38</td>\n",
              "    </tr>\n",
              "    <tr>\n",
              "      <th>18</th>\n",
              "      <td>Madhya Pradesh</td>\n",
              "      <td>29</td>\n",
              "    </tr>\n",
              "    <tr>\n",
              "      <th>15</th>\n",
              "      <td>Karnataka</td>\n",
              "      <td>28</td>\n",
              "    </tr>\n",
              "    <tr>\n",
              "      <th>10</th>\n",
              "      <td>Gujarat</td>\n",
              "      <td>26</td>\n",
              "    </tr>\n",
              "    <tr>\n",
              "      <th>28</th>\n",
              "      <td>Rajasthan</td>\n",
              "      <td>25</td>\n",
              "    </tr>\n",
              "    <tr>\n",
              "      <th>1</th>\n",
              "      <td>Andhra Pradesh</td>\n",
              "      <td>25</td>\n",
              "    </tr>\n",
              "    <tr>\n",
              "      <th>25</th>\n",
              "      <td>Odisha</td>\n",
              "      <td>21</td>\n",
              "    </tr>\n",
              "    <tr>\n",
              "      <th>16</th>\n",
              "      <td>Kerala</td>\n",
              "      <td>20</td>\n",
              "    </tr>\n",
              "    <tr>\n",
              "      <th>31</th>\n",
              "      <td>Telangana</td>\n",
              "      <td>17</td>\n",
              "    </tr>\n",
              "    <tr>\n",
              "      <th>3</th>\n",
              "      <td>Assam</td>\n",
              "      <td>14</td>\n",
              "    </tr>\n",
              "    <tr>\n",
              "      <th>14</th>\n",
              "      <td>Jharkhand</td>\n",
              "      <td>14</td>\n",
              "    </tr>\n",
              "    <tr>\n",
              "      <th>27</th>\n",
              "      <td>Punjab</td>\n",
              "      <td>13</td>\n",
              "    </tr>\n",
              "    <tr>\n",
              "      <th>6</th>\n",
              "      <td>Chhattisgarh</td>\n",
              "      <td>11</td>\n",
              "    </tr>\n",
              "    <tr>\n",
              "      <th>11</th>\n",
              "      <td>Haryana</td>\n",
              "      <td>10</td>\n",
              "    </tr>\n",
              "    <tr>\n",
              "      <th>23</th>\n",
              "      <td>NCT OF Delhi</td>\n",
              "      <td>7</td>\n",
              "    </tr>\n",
              "    <tr>\n",
              "      <th>13</th>\n",
              "      <td>Jammu &amp; Kashmir</td>\n",
              "      <td>6</td>\n",
              "    </tr>\n",
              "    <tr>\n",
              "      <th>34</th>\n",
              "      <td>Uttarakhand</td>\n",
              "      <td>5</td>\n",
              "    </tr>\n",
              "    <tr>\n",
              "      <th>12</th>\n",
              "      <td>Himachal Pradesh</td>\n",
              "      <td>4</td>\n",
              "    </tr>\n",
              "    <tr>\n",
              "      <th>32</th>\n",
              "      <td>Tripura</td>\n",
              "      <td>2</td>\n",
              "    </tr>\n",
              "    <tr>\n",
              "      <th>2</th>\n",
              "      <td>Arunachal Pradesh</td>\n",
              "      <td>2</td>\n",
              "    </tr>\n",
              "    <tr>\n",
              "      <th>21</th>\n",
              "      <td>Meghalaya</td>\n",
              "      <td>2</td>\n",
              "    </tr>\n",
              "    <tr>\n",
              "      <th>20</th>\n",
              "      <td>Manipur</td>\n",
              "      <td>2</td>\n",
              "    </tr>\n",
              "    <tr>\n",
              "      <th>9</th>\n",
              "      <td>Goa</td>\n",
              "      <td>2</td>\n",
              "    </tr>\n",
              "    <tr>\n",
              "      <th>24</th>\n",
              "      <td>Nagaland</td>\n",
              "      <td>1</td>\n",
              "    </tr>\n",
              "    <tr>\n",
              "      <th>26</th>\n",
              "      <td>Puducherry</td>\n",
              "      <td>1</td>\n",
              "    </tr>\n",
              "    <tr>\n",
              "      <th>22</th>\n",
              "      <td>Mizoram</td>\n",
              "      <td>1</td>\n",
              "    </tr>\n",
              "    <tr>\n",
              "      <th>7</th>\n",
              "      <td>Dadra &amp; Nagar Haveli</td>\n",
              "      <td>1</td>\n",
              "    </tr>\n",
              "    <tr>\n",
              "      <th>29</th>\n",
              "      <td>Sikkim</td>\n",
              "      <td>1</td>\n",
              "    </tr>\n",
              "    <tr>\n",
              "      <th>5</th>\n",
              "      <td>Chandigarh</td>\n",
              "      <td>1</td>\n",
              "    </tr>\n",
              "    <tr>\n",
              "      <th>17</th>\n",
              "      <td>Lakshadweep</td>\n",
              "      <td>1</td>\n",
              "    </tr>\n",
              "    <tr>\n",
              "      <th>8</th>\n",
              "      <td>Daman &amp; Diu</td>\n",
              "      <td>1</td>\n",
              "    </tr>\n",
              "    <tr>\n",
              "      <th>0</th>\n",
              "      <td>Andaman &amp; Nicobar Islands</td>\n",
              "      <td>1</td>\n",
              "    </tr>\n",
              "  </tbody>\n",
              "</table>\n",
              "</div>"
            ],
            "text/plain": [
              "                        STATE  CONSTITUENCY\n",
              "33              Uttar Pradesh            80\n",
              "19                Maharashtra            48\n",
              "35                West Bengal            42\n",
              "4                       Bihar            40\n",
              "30                 Tamil Nadu            38\n",
              "18             Madhya Pradesh            29\n",
              "15                  Karnataka            28\n",
              "10                    Gujarat            26\n",
              "28                  Rajasthan            25\n",
              "1              Andhra Pradesh            25\n",
              "25                     Odisha            21\n",
              "16                     Kerala            20\n",
              "31                  Telangana            17\n",
              "3                       Assam            14\n",
              "14                  Jharkhand            14\n",
              "27                     Punjab            13\n",
              "6                Chhattisgarh            11\n",
              "11                    Haryana            10\n",
              "23               NCT OF Delhi             7\n",
              "13            Jammu & Kashmir             6\n",
              "34                Uttarakhand             5\n",
              "12           Himachal Pradesh             4\n",
              "32                    Tripura             2\n",
              "2           Arunachal Pradesh             2\n",
              "21                  Meghalaya             2\n",
              "20                    Manipur             2\n",
              "9                         Goa             2\n",
              "24                   Nagaland             1\n",
              "26                 Puducherry             1\n",
              "22                    Mizoram             1\n",
              "7        Dadra & Nagar Haveli             1\n",
              "29                     Sikkim             1\n",
              "5                  Chandigarh             1\n",
              "17                Lakshadweep             1\n",
              "8                 Daman & Diu             1\n",
              "0   Andaman & Nicobar Islands             1"
            ]
          },
          "metadata": {
            "tags": []
          },
          "execution_count": 39
        }
      ]
    },
    {
      "cell_type": "code",
      "metadata": {
        "id": "p3LRm4KPIQ9D",
        "colab_type": "code",
        "colab": {
          "base_uri": "https://localhost:8080/",
          "height": 765
        },
        "outputId": "353e52cd-2cd2-4096-bee4-e2a0ecbdbdb8"
      },
      "source": [
        "ax = constituencies_per_state[['STATE','CONSTITUENCY']].plot(kind='bar', title =\"State vs Constituency\", figsize=(15, 10), legend=True, fontsize=12).set_xticklabels(constituencies_per_state['STATE'])"
      ],
      "execution_count": null,
      "outputs": [
        {
          "output_type": "display_data",
          "data": {
            "image/png": "[encoded data removed]",
            "text/plain": [
              "<Figure size 1080x720 with 1 Axes>"
            ]
          },
          "metadata": {
            "tags": [],
            "needs_background": "light"
          }
        }
      ]
    },
    {
      "cell_type": "code",
      "metadata": {
        "id": "xyVZBW2uML77",
        "colab_type": "code",
        "colab": {}
      },
      "source": [
        ""
      ],
      "execution_count": null,
      "outputs": []
    }
  ]
}